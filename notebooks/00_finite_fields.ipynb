{
 "cells": [
  {
   "cell_type": "code",
   "execution_count": null,
   "metadata": {},
   "outputs": [],
   "source": [
    "import init\n",
    "from coding.util import euclides\n",
    "from coding.fields import *"
   ]
  },
  {
   "cell_type": "markdown",
   "metadata": {},
   "source": [
    "# Algorithm of Euclides\n",
    "First, lets see if that works:"
   ]
  },
  {
   "cell_type": "code",
   "execution_count": null,
   "metadata": {},
   "outputs": [],
   "source": [
    "euclides(45, 97, output=True)"
   ]
  },
  {
   "cell_type": "markdown",
   "metadata": {},
   "source": [
    "# Finite fields"
   ]
  },
  {
   "cell_type": "markdown",
   "metadata": {},
   "source": [
    "## Integer fields\n",
    "\n",
    "While it is technically possible to construct your own `FiniteField` object, you should rather use a function like `integer_field(p)` (equivalent to $\\mathbb{F}_p$)."
   ]
  },
  {
   "cell_type": "code",
   "execution_count": null,
   "metadata": {},
   "outputs": [],
   "source": [
    "ff = FiniteField.modulo(43)"
   ]
  },
  {
   "cell_type": "code",
   "execution_count": null,
   "metadata": {},
   "outputs": [],
   "source": [
    "# All operators are defined in the Finite Field\n",
    "ff.add(40, 20), ff.mul(5, 20), ff.neg(3), ff.inv(33)"
   ]
  },
  {
   "cell_type": "code",
   "execution_count": null,
   "metadata": {},
   "outputs": [],
   "source": [
    "# Some logical other operators are also defined\n",
    "5 in ff, 43 in ff, sorted(ff) == list(range(43))"
   ]
  },
  {
   "cell_type": "markdown",
   "metadata": {},
   "source": [
    "## Fields based on polynomials\n",
    "\n",
    "First lets define some variables and polynomials using sympy:"
   ]
  },
  {
   "cell_type": "code",
   "execution_count": null,
   "metadata": {
    "collapsed": true
   },
   "outputs": [],
   "source": [
    "from sympy import Symbol, Poly"
   ]
  },
  {
   "cell_type": "code",
   "execution_count": null,
   "metadata": {
    "collapsed": true
   },
   "outputs": [],
   "source": [
    "x = Symbol('x')\n",
    "f = Poly([3, 2, -2, 2], x)\n",
    "g = Poly([1, 0, 4], x)\n",
    "FX = PolynomialField(x)"
   ]
  },
  {
   "cell_type": "code",
   "execution_count": null,
   "metadata": {},
   "outputs": [],
   "source": [
    "FX.divmod(f, g)"
   ]
  },
  {
   "cell_type": "markdown",
   "metadata": {},
   "source": [
    "Now let us try creating a finite field:"
   ]
  },
  {
   "cell_type": "code",
   "execution_count": null,
   "metadata": {},
   "outputs": [],
   "source": [
    "#g = Poly([1, 1, 1], x)\n",
    "#ff = FiniteField.modulo_poly(2, g)\n",
    "g = Poly([1, 0, 1], x)\n",
    "ff = FiniteField.modulo_poly(3, g)\n",
    "print(ff)"
   ]
  },
  {
   "cell_type": "code",
   "execution_count": null,
   "metadata": {},
   "outputs": [],
   "source": [
    "ff.check()"
   ]
  },
  {
   "cell_type": "code",
   "execution_count": null,
   "metadata": {},
   "outputs": [],
   "source": [
    "n = list(ff.numbers)\n",
    "n"
   ]
  },
  {
   "cell_type": "code",
   "execution_count": null,
   "metadata": {},
   "outputs": [],
   "source": [
    "n[0], ff.inv(n[0])"
   ]
  },
  {
   "cell_type": "code",
   "execution_count": null,
   "metadata": {},
   "outputs": [],
   "source": [
    "import sympy\n",
    "PF2 = PolynomialField(x, FiniteField.modulo(2))\n",
    "_F2 = sympy.FiniteField(2)\n",
    "_b = Poly([1, 0], x, domain=_F2)\n",
    "print(_b.div(_F2.one, _b))\n",
    "FX.neg(b), PF2.inv(b)"
   ]
  },
  {
   "cell_type": "code",
   "execution_count": null,
   "metadata": {},
   "outputs": [],
   "source": [
    "for a in n:\n",
    "    if a != ff.zero:\n",
    "        print(ff.mul(a, ff.inv(a)), ff.mul(a, ff.inv(a)) == ff.one, f'{a} * {ff.inv(a)}')"
   ]
  },
  {
   "cell_type": "code",
   "execution_count": null,
   "metadata": {},
   "outputs": [],
   "source": [
    "a = Poly(x**2 + 2*x + 2, x, domain='ZZ')\n",
    "b = Poly(x**2, x, domain='ZZ')\n",
    "assert b == ff.inv(a)"
   ]
  },
  {
   "cell_type": "code",
   "execution_count": null,
   "metadata": {},
   "outputs": [],
   "source": [
    "len(ff.numbers)"
   ]
  },
  {
   "cell_type": "markdown",
   "metadata": {},
   "source": [
    "# Full sympy tryout"
   ]
  },
  {
   "cell_type": "code",
   "execution_count": null,
   "metadata": {
    "collapsed": true
   },
   "outputs": [],
   "source": [
    "import init\n",
    "from coding.util import euclides\n",
    "from coding.fields import *\n",
    "import sympy\n",
    "x = sympy.Symbol('x')"
   ]
  },
  {
   "cell_type": "code",
   "execution_count": null,
   "metadata": {},
   "outputs": [],
   "source": [
    "F3 = sympy.FiniteField(3)\n",
    "_F3 = FiniteField.modulo(3)\n",
    "_PF = PolynomialField(x, _F3)"
   ]
  },
  {
   "cell_type": "code",
   "execution_count": null,
   "metadata": {},
   "outputs": [],
   "source": [
    "g = Poly([1, 0, 1], x, domain=F3)\n",
    "a = Poly([2, 1], x, domain=F3)\n",
    "_g = Poly([1, 0, 1], x)\n",
    "_a = Poly([2, 1], x)"
   ]
  },
  {
   "cell_type": "code",
   "execution_count": null,
   "metadata": {},
   "outputs": [],
   "source": [
    "a, g"
   ]
  },
  {
   "cell_type": "code",
   "execution_count": null,
   "metadata": {},
   "outputs": [],
   "source": [
    "s, t, h = g.gcdex(a)\n",
    "print(\"\")\n",
    "print(\"\"\"f = [SymmetricModularIntegerMod3(1), SymmetricModularIntegerMod3(0), SymmetricModularIntegerMod3(1)], g = [SymmetricModularIntegerMod3(2), SymmetricModularIntegerMod3(1)]\n",
    "a = [SymmetricModularIntegerMod3(1)], b = []\n",
    "dividing [SymmetricModularIntegerMod3(1), SymmetricModularIntegerMod3(0), SymmetricModularIntegerMod3(1)]/[SymmetricModularIntegerMod3(2), SymmetricModularIntegerMod3(1)] = ([SymmetricModularIntegerMod3(2), SymmetricModularIntegerMod3(2)], [SymmetricModularIntegerMod3(2)]) (K = GF(3))\n",
    "f = [SymmetricModularIntegerMod3(2), SymmetricModularIntegerMod3(1)], g = [SymmetricModularIntegerMod3(2)]\n",
    "a = [], b = [SymmetricModularIntegerMod3(1)]\n",
    "dividing [SymmetricModularIntegerMod3(2), SymmetricModularIntegerMod3(1)]/[SymmetricModularIntegerMod3(2)] = ([SymmetricModularIntegerMod3(1), SymmetricModularIntegerMod3(2)], []) (K = GF(3))\n",
    "f = [SymmetricModularIntegerMod3(2)], g = []\n",
    "a = [SymmetricModularIntegerMod3(1)], b = [SymmetricModularIntegerMod3(2), SymmetricModularIntegerMod3(1)]\n",
    "a = [SymmetricModularIntegerMod3(2)]\n",
    "f = [SymmetricModularIntegerMod3(1)]\"\"\".replace(\"SymmetricModularIntegerMod3\", \"\"))"
   ]
  },
  {
   "cell_type": "code",
   "execution_count": null,
   "metadata": {},
   "outputs": [],
   "source": [
    "_a, _g"
   ]
  },
  {
   "cell_type": "code",
   "execution_count": null,
   "metadata": {},
   "outputs": [],
   "source": [
    "_h, _s, _t = euclides(_a, _g, _PF, output=True)"
   ]
  },
  {
   "cell_type": "code",
   "execution_count": null,
   "metadata": {},
   "outputs": [],
   "source": [
    "s, t, h"
   ]
  },
  {
   "cell_type": "code",
   "execution_count": null,
   "metadata": {},
   "outputs": [],
   "source": [
    "_s, _t, _h"
   ]
  },
  {
   "cell_type": "code",
   "execution_count": null,
   "metadata": {
    "collapsed": true
   },
   "outputs": [],
   "source": []
  }
 ],
 "metadata": {
  "kernelspec": {
   "display_name": "Python 3",
   "language": "python",
   "name": "python3"
  },
  "language_info": {
   "codemirror_mode": {
    "name": "ipython",
    "version": 3
   },
   "file_extension": ".py",
   "mimetype": "text/x-python",
   "name": "python",
   "nbconvert_exporter": "python",
   "pygments_lexer": "ipython3",
   "version": "3.6.1"
  }
 },
 "nbformat": 4,
 "nbformat_minor": 2
}
